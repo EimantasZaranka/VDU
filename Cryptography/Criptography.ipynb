{
  "nbformat": 4,
  "nbformat_minor": 0,
  "metadata": {
    "colab": {
      "name": "Criptography.ipynb",
      "provenance": [],
      "collapsed_sections": [
        "FwqQEfTkCZfn",
        "fMZLTIZTCcFp"
      ]
    },
    "kernelspec": {
      "name": "python3",
      "display_name": "Python 3"
    },
    "language_info": {
      "name": "python"
    }
  },
  "cells": [
    {
      "cell_type": "code",
      "metadata": {
        "id": "CUXJIwzd-8uP"
      },
      "source": [
        "import hashlib"
      ],
      "execution_count": null,
      "outputs": []
    },
    {
      "cell_type": "markdown",
      "metadata": {
        "id": "FwqQEfTkCZfn"
      },
      "source": [
        "# MD5"
      ]
    },
    {
      "cell_type": "code",
      "metadata": {
        "colab": {
          "base_uri": "https://localhost:8080/"
        },
        "id": "Q60DcXOJ_Ibr",
        "outputId": "85d1f8ca-5d3a-4135-d6fe-3fff32d260a7"
      },
      "source": [
        "# MD5 hashing a mesage\n",
        "message = 'CryptographyIsFun'\n",
        "\n",
        "result = hashlib.md5(message.encode())\n",
        "\n",
        "print(f'The hexadecimal equivalent of hash is: {result.hexdigest()}')"
      ],
      "execution_count": null,
      "outputs": [
        {
          "output_type": "stream",
          "name": "stdout",
          "text": [
            "The hexadecimal equivalent of hash is: f680d6aa0329f85ddfc3fa08c93d16bc\n"
          ]
        }
      ]
    },
    {
      "cell_type": "code",
      "metadata": {
        "colab": {
          "base_uri": "https://localhost:8080/"
        },
        "id": "LaUqL4VrAVHn",
        "outputId": "4a50a213-8ed5-4f4e-b9dd-0b55f8503890"
      },
      "source": [
        "# MD5 hashing a file\n",
        "filename = '/content/test.txt'\n",
        "\n",
        "# taken from onlinemd5.com\n",
        "original_checksum = '3028FEE45661D69F1AECBD23F39536AE'.lower() \n",
        "\n",
        "hash_md5 = hashlib.md5()\n",
        "\n",
        "with open(filename, 'rb') as f:\n",
        "  for chunk in iter(lambda: f.read(4096), b''):\n",
        "    hash_md5.update(chunk)\n",
        "\n",
        "print(f\"Checksum: {hash_md5.hexdigest()}\")\n",
        "\n",
        "if original_checksum == hash_md5.hexdigest():\n",
        "  print('MD5 verified')\n",
        "else:\n",
        "  print('MD5 verification failed!')"
      ],
      "execution_count": null,
      "outputs": [
        {
          "output_type": "stream",
          "name": "stdout",
          "text": [
            "Checksum: 3028fee45661d69f1aecbd23f39536ae\n",
            "MD5 verified\n"
          ]
        }
      ]
    },
    {
      "cell_type": "markdown",
      "metadata": {
        "id": "fMZLTIZTCcFp"
      },
      "source": [
        "# SHA"
      ]
    },
    {
      "cell_type": "code",
      "metadata": {
        "colab": {
          "base_uri": "https://localhost:8080/"
        },
        "id": "lSmzIAzeCIi0",
        "outputId": "00ef29cf-8af7-42de-dba0-812bf6bf4c55"
      },
      "source": [
        "# Encoding message\n",
        "message = 'CryptographyIsFun'\n",
        "result = hashlib.sha256(message.encode())\n",
        "print(f\"String: {message} \\n Hash value: {result} \\n \\\n",
        "        Hex value: {result.hexdigest()} \\n \\\n",
        "        Digest Size: {result.digest_size} \\n \\\n",
        "        Block Size: {result.block_size}\")"
      ],
      "execution_count": null,
      "outputs": [
        {
          "output_type": "stream",
          "name": "stdout",
          "text": [
            "String: CryptographyIsFun \n",
            " Hash value: <sha256 HASH object @ 0x7f74506479f0> \n",
            "         Hex value: fd8c78a5ee1b0229ffeea4513388fd2fea8dcd9139aeea29b4e175702477c6e5 \n",
            "         Digest Size: 32 \n",
            "         Block Size: 64\n"
          ]
        }
      ]
    },
    {
      "cell_type": "code",
      "metadata": {
        "colab": {
          "base_uri": "https://localhost:8080/"
        },
        "id": "cqVfsz6mDVAt",
        "outputId": "4f346c67-fb3c-4066-d7c8-b11887f67a0a"
      },
      "source": [
        "# Encoding file\n",
        "\n",
        "filename = '/content/test.txt'\n",
        "original_checksum = '56C89A311AB973520C737EFC26CA84CEE6C4D4241AAAFEE3E4BEB09C1126D43D'.lower()\n",
        "\n",
        "hash_sha256 = hashlib.sha256()\n",
        "\n",
        "with open(filename, 'rb') as f:\n",
        "  for chunk in iter(lambda: f.read(4096), b''):\n",
        "    hash_sha256.update(chunk)\n",
        "\n",
        "print(f'Checksum: {hash_sha256.hexdigest()}')\n",
        "\n",
        "if original_checksum == hash_sha256.hexdigest():\n",
        "  print('SHA256 verified')\n",
        "else:\n",
        "  print('SHA256 verification failed!')"
      ],
      "execution_count": null,
      "outputs": [
        {
          "output_type": "stream",
          "name": "stdout",
          "text": [
            "Checksum: 56c89a311ab973520c737efc26ca84cee6c4d4241aaafee3e4beb09c1126d43d\n",
            "SHA256 verified\n"
          ]
        }
      ]
    },
    {
      "cell_type": "markdown",
      "metadata": {
        "id": "gXf8fP4bEcLp"
      },
      "source": [
        "#RIPEMD160"
      ]
    },
    {
      "cell_type": "code",
      "metadata": {
        "colab": {
          "base_uri": "https://localhost:8080/"
        },
        "id": "sYOICFK2EQLF",
        "outputId": "6bc04e10-79b6-482f-d614-6680d0174abf"
      },
      "source": [
        "# Hashing message\n",
        "message = 'CryptographyIsFun'\n",
        "\n",
        "x = hashlib.new('ripemd160')\n",
        "\n",
        "x.update(message.encode())\n",
        "\n",
        "print(f'Checksum: {x.hexdigest()}')"
      ],
      "execution_count": null,
      "outputs": [
        {
          "output_type": "stream",
          "name": "stdout",
          "text": [
            "Checksum: 40bb74110e42123bfde8d4f60267b7fd57d5ada7\n"
          ]
        }
      ]
    },
    {
      "cell_type": "code",
      "metadata": {
        "colab": {
          "base_uri": "https://localhost:8080/"
        },
        "id": "lYnhm1DUEw87",
        "outputId": "de858d76-4c53-4780-9fb0-bb5e92333ff1"
      },
      "source": [
        "# Hashing file\n",
        "filename = '/content/test.txt'\n",
        "checksum = '0f41c23e205ab78e3b80d915e50fb20bc7b856e8'\n",
        "\n",
        "hash_ripemd160 = hashlib.new('ripemd160')\n",
        "\n",
        "with open(filename, 'rb') as f:\n",
        "  for chunk in iter(lambda: f.read(4096), b''):\n",
        "    hash_ripemd160.update(chunk)\n",
        "\n",
        "print(f'Checksum: {hash_ripemd160.hexdigest()}')\n",
        "\n",
        "if checksum == hash_ripemd160.hexdigest():\n",
        "  print('RIPEMD160 verified')\n",
        "else:\n",
        "  print('RIPEMD160 verification failed!')"
      ],
      "execution_count": null,
      "outputs": [
        {
          "output_type": "stream",
          "name": "stdout",
          "text": [
            "Checksum: 0f41c23e205ab78e3b80d915e50fb20bc7b856e8\n",
            "RIPEMD160 verified\n"
          ]
        }
      ]
    },
    {
      "cell_type": "markdown",
      "metadata": {
        "id": "BcTO0LYnGEi8"
      },
      "source": [
        "# Whirlpool"
      ]
    },
    {
      "cell_type": "code",
      "metadata": {
        "colab": {
          "base_uri": "https://localhost:8080/"
        },
        "id": "3nrbeQpGF33V",
        "outputId": "184cf845-8b05-4f6a-ed2b-a25b263f16db"
      },
      "source": [
        "!pip install whirlpool"
      ],
      "execution_count": null,
      "outputs": [
        {
          "output_type": "stream",
          "name": "stdout",
          "text": [
            "Collecting whirlpool\n",
            "  Downloading Whirlpool-1.0.0.tar.gz (41 kB)\n",
            "\u001b[?25l\r\u001b[K     |███████▉                        | 10 kB 23.5 MB/s eta 0:00:01\r\u001b[K     |███████████████▋                | 20 kB 27.6 MB/s eta 0:00:01\r\u001b[K     |███████████████████████▌        | 30 kB 13.6 MB/s eta 0:00:01\r\u001b[K     |███████████████████████████████▎| 40 kB 9.8 MB/s eta 0:00:01\r\u001b[K     |████████████████████████████████| 41 kB 419 kB/s \n",
            "\u001b[?25hBuilding wheels for collected packages: whirlpool\n",
            "  Building wheel for whirlpool (setup.py) ... \u001b[?25l\u001b[?25hdone\n",
            "  Created wheel for whirlpool: filename=Whirlpool-1.0.0-cp37-cp37m-linux_x86_64.whl size=74651 sha256=4353e74389b952cfc2918845684b1c820bb3ead27950d4fb80654f58d23619bb\n",
            "  Stored in directory: /root/.cache/pip/wheels/75/0a/8e/f3ff087601cedf5c98238ff7118a4e686ffc018f5bc72491c9\n",
            "Successfully built whirlpool\n",
            "Installing collected packages: whirlpool\n",
            "Successfully installed whirlpool-1.0.0\n"
          ]
        }
      ]
    },
    {
      "cell_type": "code",
      "metadata": {
        "id": "uXm643v3HPrQ"
      },
      "source": [
        "import whirlpool"
      ],
      "execution_count": null,
      "outputs": []
    },
    {
      "cell_type": "code",
      "metadata": {
        "colab": {
          "base_uri": "https://localhost:8080/"
        },
        "id": "nGNE9jskGSH0",
        "outputId": "4613f8a7-e762-47e3-faed-4614712de2b4"
      },
      "source": [
        "# Hashing file\n",
        "message = 'CryptographyIsFun'\n",
        "\n",
        "hash_whirlpool = whirlpool.new(message.encode())\n",
        "hashed_output = hash_whirlpool.hexdigest()\n",
        "\n",
        "print(f\"Checksum: {hashed_output}\")"
      ],
      "execution_count": null,
      "outputs": [
        {
          "output_type": "stream",
          "name": "stdout",
          "text": [
            "Checksum: edd635d2ddf77af06788a7c936a0249b8dd0c430206b03c0aba81b175c76ad7fcacddcf43acab8ba1c12c6fc2cd114b0fe2f6987f34699f57b1b027a4d155fb4\n"
          ]
        }
      ]
    },
    {
      "cell_type": "code",
      "metadata": {
        "colab": {
          "base_uri": "https://localhost:8080/"
        },
        "id": "7zC8yNShHqzf",
        "outputId": "d761d1e4-f511-4c08-9385-f018c11e8b4a"
      },
      "source": [
        "filename = '/content/test.txt'\n",
        "checksum = '9bb2a648e30f5f1a8342044f691db6013e195df966d07efb042fec828d32cd8a5ac4bb76e6b409438357c782b2b971d9607c7ad73c3f222141573837fbf2a1c6'\n",
        "\n",
        "hash_whirlpool = whirlpool.new()\n",
        "\n",
        "with open(filename, 'rb') as f:\n",
        "  for chunk in iter(lambda: f.read(4096), b''):\n",
        "    hash_whirlpool.update(chunk)\n",
        "\n",
        "print(f'Checksum: {hash_whirlpool.hexdigest()}')\n",
        "\n",
        "if checksum == hash_whirlpool.hexdigest():\n",
        "  print('Whirlpool verified')\n",
        "else:\n",
        "  print('Whirlpool verification failed!')"
      ],
      "execution_count": null,
      "outputs": [
        {
          "output_type": "stream",
          "name": "stdout",
          "text": [
            "Checksum: 9bb2a648e30f5f1a8342044f691db6013e195df966d07efb042fec828d32cd8a5ac4bb76e6b409438357c782b2b971d9607c7ad73c3f222141573837fbf2a1c6\n",
            "Whirlpool verified\n"
          ]
        }
      ]
    },
    {
      "cell_type": "markdown",
      "metadata": {
        "id": "eFQNjPD4Iozb"
      },
      "source": [
        "# HMAC"
      ]
    },
    {
      "cell_type": "code",
      "metadata": {
        "id": "KbhVGvDTItFN"
      },
      "source": [
        "import hmac\n",
        "import hashlib"
      ],
      "execution_count": null,
      "outputs": []
    },
    {
      "cell_type": "code",
      "metadata": {
        "colab": {
          "base_uri": "https://localhost:8080/"
        },
        "id": "Kw4A1KUwIWyI",
        "outputId": "fc659b59-7fca-4794-dab9-c18f35d62e5b"
      },
      "source": [
        "message_string = 'CryptographyIsFun'\n",
        "key = 'e179017a-62b0-4996-8a38-e91aa9f1'\n",
        "\n",
        "byte_key = key.encode()\n",
        "message = message_string.encode()\n",
        "\n",
        "hmac_hash = hmac.new(byte_key, message, hashlib.sha256)\n",
        "checksum = hmac_hash.hexdigest()\n",
        "\n",
        "print(f'Checksum: {checksum}')"
      ],
      "execution_count": null,
      "outputs": [
        {
          "output_type": "stream",
          "name": "stdout",
          "text": [
            "Checksum: 5cf0f78d0e170c57525d1acdf3316a0b6a7ae86dbeb3419f721443b1964f8ee8\n"
          ]
        }
      ]
    },
    {
      "cell_type": "code",
      "metadata": {
        "colab": {
          "base_uri": "https://localhost:8080/"
        },
        "id": "ADdexXD6JdVH",
        "outputId": "969b049e-0341-432e-9048-020d389e8561"
      },
      "source": [
        "# file download\n",
        "key = 'e179017a-62b0-4996-8a38-e91aa9f1'\n",
        "byte_key = key.encode()\n",
        "\n",
        "#server side\n",
        "filename_server = '/content/test.txt'\n",
        "\n",
        "#calculating checksum server side\n",
        "hmac_hash_server = hmac.new(byte_key, digestmod=hashlib.sha256)\n",
        "\n",
        "with open(filename_server, 'rb') as f:\n",
        "  for chunk in iter(lambda: f.read(4096), b''):\n",
        "    hmac_hash_server.update(chunk)\n",
        "\n",
        "server_signature = hmac_hash_server.hexdigest()\n",
        "\n",
        "# downloaded checking\n",
        "filename_pc = '/content/test_down.txt'\n",
        "\n",
        "hmac_hash_pc = hmac.new(byte_key, digestmod=hashlib.sha256)\n",
        "\n",
        "with open(filename_pc, 'rb') as f:\n",
        "  for chunk in iter(lambda: f.read(4096), b''):\n",
        "    hmac_hash_pc.update(chunk)\n",
        "\n",
        "pc_signature = hmac_hash_pc.hexdigest()\n",
        "\n",
        "if server_signature == pc_signature:\n",
        "  print(\"Signature matched!\")\n",
        "else:\n",
        "  print(\"Signature does not match\")"
      ],
      "execution_count": null,
      "outputs": [
        {
          "output_type": "stream",
          "name": "stdout",
          "text": [
            "Signature matched!\n"
          ]
        }
      ]
    },
    {
      "cell_type": "code",
      "metadata": {
        "colab": {
          "base_uri": "https://localhost:8080/"
        },
        "id": "VSEHXzUyL85x",
        "outputId": "efd2ccbe-54c2-4fb2-e0eb-ab3751b62d46"
      },
      "source": [
        "key = 'e179017a-62b0-4996-8a38-e91aa9f1'\n",
        "byte_key = key.encode()\n",
        "\n",
        "#server side\n",
        "filename_server = '/content/test.txt'\n",
        "\n",
        "#calculating checksum server side\n",
        "hmac_hash_server = hmac.new(byte_key, digestmod=hashlib.sha256)\n",
        "\n",
        "with open(filename_server, 'rb') as f:\n",
        "  for chunk in iter(lambda: f.read(4096), b''):\n",
        "    hmac_hash_server.update(chunk)\n",
        "\n",
        "server_signature = hmac_hash_server.hexdigest()\n",
        "\n",
        "# downloaded checking\n",
        "filename_pc = '/content/test_tampered.txt'\n",
        "\n",
        "hmac_hash_pc = hmac.new(byte_key, digestmod=hashlib.sha256)\n",
        "\n",
        "with open(filename_pc, 'rb') as f:\n",
        "  for chunk in iter(lambda: f.read(4096), b''):\n",
        "    hmac_hash_pc.update(chunk)\n",
        "\n",
        "pc_signature = hmac_hash_pc.hexdigest()\n",
        "\n",
        "if server_signature == pc_signature:\n",
        "  print(\"Signature matched!\")\n",
        "else:\n",
        "  print(\"Signature does not match\")"
      ],
      "execution_count": null,
      "outputs": [
        {
          "output_type": "stream",
          "name": "stdout",
          "text": [
            "Signature does not match\n"
          ]
        }
      ]
    },
    {
      "cell_type": "code",
      "metadata": {
        "id": "iK0PIVA4MQEz"
      },
      "source": [
        ""
      ],
      "execution_count": null,
      "outputs": []
    }
  ]
}